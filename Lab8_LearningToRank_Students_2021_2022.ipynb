{
 "cells": [
  {
   "cell_type": "markdown",
   "metadata": {
    "id": "H8PfrcnQsHih"
   },
   "source": [
    "<center><img src='https://drive.google.com/uc?export=view&id=1qJ8NqAZolTBQY7lN-deZ8xEsU3dlUiLz' width=200></center>\n",
    "\n",
    "\n",
    "<h6><center></center></h6>\n",
    "\n",
    "<h1>\n",
    "<hr style=\" border:none; height:3px;\">\n",
    "<center>Recherche d'Information et traitement de données massives </center>\n",
    "    <center> Lab 8 : Apprentissage et Recherche d'information - Learning to Rank - Approche par points</center>\n",
    "<hr style=\" border:none; height:3px;\">\n",
    "</h1>\n",
    "\n",
    "\n"
   ]
  },
  {
   "cell_type": "markdown",
   "metadata": {
    "id": "JFX9eoJiEodi"
   },
   "source": [
    "L'objectif de cette séance est la mise en oeuvre des approches pour la recherche d'information vue comme un problème d'apprentissage d'une fonction d'ordonnancement.\n",
    "\n",
    "En particulier, dans ce premier TP vous mettrez en oeuvre l'**approche par points** modélisée comme un problème de regression. \n",
    "\n",
    "<center><img src='https://drive.google.com/uc?export=view&id=1IiT8Go8Mxhnv0Uj6aFgdyN-3TyVUKukC' width=\"500\" height=\"500\"></center>\n",
    "\n",
    "\n"
   ]
  },
  {
   "cell_type": "markdown",
   "metadata": {
    "id": "A4GevBvasHik"
   },
   "source": [
    "### Partie 1 :  Prise en main des données"
   ]
  },
  {
   "cell_type": "markdown",
   "metadata": {
    "id": "YKe9JI1mEodj"
   },
   "source": [
    "Nous travaillerons à partir du jeu de données mis en place par Chris Manning et Pandu Nayak pour leur très bon [cours](http://web.stanford.edu/class/cs276/) de recherche d'information et qui est accessible dans le répertoire [Data/pa3-data](./Data/pa3-data). \n",
    "\n",
    "\n",
    "<div class =\"alert alert-block alert-success\">\n",
    "Comme d'habitude, pour ceux qui utilisent Colab, il sera nécéssaire de télécharger et dézipper l'archive associée au Lab.\n",
    "\n",
    "1.   Dans le dossier Lab8_LearningToRank_1_2021 que vous avez téléchargé, vous trouverez une archive Archive_Lab8.zip.\n",
    "2.   Ouvrir le panneau Fichiers de colab (c'est à dire cliquez sur le logo en forme de dossier à gauche) et cliquez sur le premier bouton en haut à gauche vous permettant de télécharger. Téléchargez ainsi l'Archive_Lab8.zip dans votre colab. Si besoin actualiser jusqu'à voir l'archive apparaître dans le panneau. \n",
    "3.    Exécutez la cellule de code suivante pour dézziper l'archive.\n",
    "</div>"
   ]
  },
  {
   "cell_type": "code",
   "execution_count": null,
   "metadata": {
    "id": "D5Co5opnEodj"
   },
   "outputs": [],
   "source": [
    "!unzip Archive_Lab8"
   ]
  },
  {
   "cell_type": "markdown",
   "metadata": {
    "id": "2dJrPdYlsHil"
   },
   "source": [
    "#### Description du jeu de données\n",
    "\n",
    "Ce jeu de données contient **un ensemble d'apprentissage** constitué de paires `(requête,document)` et pour chaque paire d'un ensemble d'informations utiles pour ordonnancer les documents. Les données sont aussi séparées en un ensemble d'apprentissage et en un ensemble de test.\n",
    "\n",
    "Plus précisemment, le répertoire [Data/pa3-data](./Data/pa3-data) contient :\n",
    "\n",
    "+ Le fichier [pa3.signal.train](Data/pa3-data/pa3.signal.train) qui contient 731 requêtes et pour chaque requête une liste d'au plus 10 documents renvoyés par un moteur de recherche connu. La description détaillée de ce fichier est donnée plus loin.\n",
    "\n",
    "+ Le fichier [pa3.rel.train](Data/pa3-data/pa3.rel.train) qui contient les jugements de pertinences donnés sous la forme d'un score de pertinence entre -1 et 3 pour chaque requête et chaque document associé à cette requête. Un extrait de ce fichier est donné ci-dessous.\n",
    "\n",
    "````\n",
    "======================================================================================\n",
    "query: stanford aoerc pool hours\n",
    "  url: http://events.stanford.edu/2014/February/18/ 0.0\n",
    "  url: http://events.stanford.edu/2014/February/6/ 0.0\n",
    "  url: http://events.stanford.edu/2014/March/13/ 0.0\n",
    "  url: http://events.stanford.edu/2014/March/3/ 0.0\n",
    "  url: http://med.stanford.edu/content/dam/sm/hip/documents/FreeFitnessWeek.pdf 0.0\n",
    "  url: http://web.stanford.edu/group/masters/pool.html 1.0\n",
    "  url: https://alumni.stanford.edu/get/page/perks/PoolAndGyms 1.5\n",
    "  url: https://cardinalrec.stanford.edu/facilities/aoerc/ 2.0\n",
    "  url: https://explorecourses.stanford.edu/search?view=catalog&filter-coursestatus-Active=on&page=0&catalog=&q=PE+128%3A+Swimming%3A+Beginning+I&collapse= 0.5\n",
    "  url: https://glo.stanford.edu/events/stanford-rec-open-house 0.5\n",
    "  \n",
    "======================================================================================\n",
    "````\n",
    "\n",
    "\n",
    "\n",
    "\n",
    "L'extrait ci-dessus indique que pour la requête `stanford aoerc pool hours`, le document d'url `http://events.stanford.edu/2014/February/18/` a pour score de pertinence `0.0` et que celui d'url `https://alumni.stanford.edu/get/page/perks/PoolAndGyms` a pour score de pertinence `1.5`.\n",
    "\n",
    "\n",
    "Les fichiers [pa3.signal.train](Data/pa3-data/pa3.signal.train) et [pa3.rel.train](Data/pa3-data/pa3.rel.train) sont utilisés comme **ensemble d'apprentissage**.\n",
    "\n",
    "Le répertoire contient aussi deux fichiers qui seront utilisés comme **ensemble de test** :\n",
    "\n",
    "+ Le fichier [pa3.signal.dev](Data/pa3-data/pa3.signal.dev) qui contient 124 requêtes et pour chaque requête une liste d'au plus 10 documents renvoyés par un moteur de recherche connu.\n",
    "+ Le fichier [pa3.rel.dev](Data/pa3-data/pa3.signal.dev) qui contient les scores de pertinences pour les requêtes et les documents du fichier [pa3.signal.dev](Data/pa3-data/pa3.signal.dev).\n",
    "\n",
    "\n",
    "\n",
    "#### 1.1 Description du fichier [pa3.signal.train](Data/pa3-data/pa3.signal.train)\n",
    "\n",
    "\n",
    "Le fichier [pa3.signal.train](Data/pa3-data/pa3.signal.train) contient pour un ensemble de requêtes, les documents retournés pour cette requête et un ensemble d'information pour chacun de ces documents que nous allons utiliser pour construire notre ensemble de fichiers caractéristiques.\n",
    "\n",
    "\n",
    "Le code ci-dessous permet d'afficher une partie du fichier [pa3.signal.train](Data/pa3-data/pa3.signal.train) et de visualiser l'information pour une requête donnée. **Executez le !**\n"
   ]
  },
  {
   "cell_type": "code",
   "execution_count": null,
   "metadata": {
    "id": "dZqyHwOOsHim"
   },
   "outputs": [],
   "source": [
    "import os\n",
    "\n",
    "data_dir = './Data/pa3-data'\n",
    "filename = os.path.join(data_dir, \"pa3.signal.train\")\n",
    "with open(filename, 'r', encoding = 'utf8') as f:\n",
    "    print(f.read()[0:1000])\n",
    "print(\"...\")"
   ]
  },
  {
   "cell_type": "markdown",
   "metadata": {
    "id": "vJFdvjxRsHiq"
   },
   "source": [
    "On voit que pour chaque document associé à une requête sont donnés :\n",
    " + son **url** (`url`)\n",
    " + son **titre** (`title`)\n",
    " + un ou plusieurs **headers** (`header`).\n",
    " + un ensemble de **termes d'importance** (`body_hits`) dans le document avec pour chacun de ces termes une liste des positions de chacun de ces termes dans le document. Le nombre de positions permet donc d'avoir la frequence du terme dans le document.\n",
    " + la **longueur du corps du document** (`body_length`) qui représente le nombre de termes présents dans le corps du document.\n",
    " + un **score de type pagerank** (`pagerank`) qui est un entier entre 0 et 9 qui mesure la qualité du document indépendamment de la requête.\n",
    " \n",
    "D'autres informations comme :\n",
    "+ les **textes d'ancrage** (`anchor_text`) associés à la page et le **nombre d'ancrage** (`stanford_anchor_count`) associé à chaque texte d'ancrage et qui correspond au nombre d'ancrages sur le domaine stanford.edu qui porte ce texte d'ancrage.\n",
    "\n",
    "Par exemple, si le texte d'ancrage est *stanford math department* et que le nombre d'ancrage associé est 9, cela signifie qu'il y a 9 liens vers le document (la page courante) pour lesquels le texte d'ancrage est *stanford math department*.\n",
    "\n",
    "Si vous ne vous rappelez pas ce qu'est un texte d'ancrage, vous pouvez vous reporter au [cours sur le web](https://centralesupelec.edunao.com/mod/folder/view.php?id=49142).\n",
    "\n",
    "\n",
    "<div class=\"alert alert-block alert-info\"> \n",
    "\n",
    "Prenez le temps de regarder les données, puis répondez aux questions associées dans le sondage Wooclap\n",
    "</div> \n",
    " \n",
    "[**Wooclap**](https://app.wooclap.com/JXDNGT/questionnaires/60a2166fd9d74311359c66d9)\n"
   ]
  },
  {
   "cell_type": "markdown",
   "metadata": {
    "id": "oU4_DzpnsHis"
   },
   "source": [
    "#### 1.2 Accès et récupération des données.\n",
    "\n",
    "Pour faciliter la réalisation de ce TP, plusieurs modules vous sont fournis dans le répertoire `base_classes` de `Utils`. Il y a notamment la fonction `load_train_data` et le module `Query` qui permettent de charger les requêtes du fichier [pa3.signal.train](Data/pa3-data/pa3.signal.train) sous la forme d'un dictionnaire de requêtes comme montré dans le code ci-dessous.\n",
    "\n",
    "**Executez le code ci-dessous !**"
   ]
  },
  {
   "cell_type": "code",
   "execution_count": null,
   "metadata": {
    "id": "BBKWwjfEsHit"
   },
   "outputs": [],
   "source": [
    "# Récupération des 731 requêtes et des documents associés du fichier pa3.signal.train\n",
    "\n",
    "import os\n",
    "import sys\n",
    "from Utils.base_classes.load_train_data import load_train_data\n",
    "from Utils.base_classes.query import Query\n",
    "\n",
    "# Repertoire des données \n",
    "data_dir = './Data/pa3-data'\n",
    "# Nom du fichier\n",
    "file_name = os.path.join(data_dir, \"pa3.signal.train\")\n",
    "# chargement du fichier\n",
    "query_dict = load_train_data(file_name)\n",
    "print(\"Récupération de {0} requêtes\".format(len(query_dict)))"
   ]
  },
  {
   "cell_type": "markdown",
   "metadata": {
    "id": "nm-6zxhQEodl"
   },
   "source": [
    "Vous devriez avoir récupérer les informations relatives aux requêtes du fichier `pa3.signal.train` dans le dictionnaire `query_dict`."
   ]
  },
  {
   "cell_type": "code",
   "execution_count": null,
   "metadata": {
    "id": "8yUwtv2hEodm"
   },
   "outputs": [],
   "source": [
    "assert (len(query_dict.keys()))==731"
   ]
  },
  {
   "cell_type": "markdown",
   "metadata": {
    "id": "_T17-i9eEodm"
   },
   "source": [
    "<div class=\"alert alert-block alert-danger\">\n",
    "<b>Conseil : </b>  si le test précédent renvoie une AssertionError, prevenez votre chargé de TD. \n",
    "</div>"
   ]
  },
  {
   "cell_type": "markdown",
   "metadata": {
    "id": "hnc8Xc_qEodm"
   },
   "source": [
    "#### 1.3 Comprendre de dictionnaire `query_dict`\n",
    "\n",
    "Afficher le dictionnaire `query_dict` et essayez de comprendre sa structuration."
   ]
  },
  {
   "cell_type": "code",
   "execution_count": null,
   "metadata": {
    "id": "xnK6LWY5Eodm"
   },
   "outputs": [],
   "source": [
    "query_dict"
   ]
  },
  {
   "cell_type": "markdown",
   "metadata": {
    "id": "ooyZN5nJEodm"
   },
   "source": [
    "`query_dict` est un dictionnaire python dont :\n",
    "+ chaque clé est un object de type `Query`(programmation orientée objet). \n",
    "+ la valeur associée à chaque clé est aussi un dictionnaire dont :\n",
    "    + les clés sont les `url` de chaque document renvoyé pour la requête considérée.\n",
    "    + la valeur associé à chaque clé est un objet de type `Document` (programmation orientée objet) avec des attributs correspondants aux différentes informations utiles pour décrire le document.\n",
    "    \n",
    "<div class=\"alert alert-block alert-danger\">\n",
    "<b>Important : </b>  La connaissance de la programmation orientée objet n'est pas nécéssaire pour ce LAB mais il est par contre indispensable de prendre le temps de bien comprendre les exemples ci-dessous pour bien comprendre comment manipuler les différentes informations.\n",
    "</div>    \n",
    "    "
   ]
  },
  {
   "cell_type": "markdown",
   "metadata": {
    "id": "YuajucWuEodn"
   },
   "source": [
    "**Récupération des documents associés à une requête donnée**\n",
    "\n",
    "La code ci-dessous montre un exemple de la récupération de l'information associée à une requête donnée, ici la requête `\"stanford aoerc pool hours\"`. On observe bien que cette information est renvoyée sous la forme d'un dictionnaire dont la clé est l'url du document et la valeur un dictionnaire avec l'ensemble des informations associées."
   ]
  },
  {
   "cell_type": "code",
   "execution_count": null,
   "metadata": {
    "id": "ANHhs0w3Eodn"
   },
   "outputs": [],
   "source": [
    "# Récupération de l'information associée à une requête sous forme d'un dictionnaire de documents\n",
    "query_dict[Query(\"stanford aoerc pool hours\")]"
   ]
  },
  {
   "cell_type": "markdown",
   "metadata": {
    "id": "MTW1U00ZEodn"
   },
   "source": [
    "**1.3.1 Ecrivez le code ci-dessous permettant de récupérer l'ensemble des documents associés à la requête `cardinal nights`.**"
   ]
  },
  {
   "cell_type": "code",
   "execution_count": null,
   "metadata": {
    "id": "2mkyKE0xEodn"
   },
   "outputs": [],
   "source": [
    "## Recupération des documents associés à la requête \"cardinal nights\"\n",
    "# TO COMPLETE\n",
    "\n"
   ]
  },
  {
   "cell_type": "markdown",
   "metadata": {
    "id": "9IV_aCTZEodn"
   },
   "source": [
    "**Récupération du nombre de documents pour une requête donnée**\n",
    "\n",
    "\n",
    "Il est alors facile de récupérer le nombre de documents associés à une requête dans cet ensemble d'apprentissage à l'aide de cette structure de dictionnaire. Il s'agit de la longueur de la liste de l'ensemble des clés du dictionnaire `query_dict`.\n",
    "Le code ci-dessous vous montre comment récupérer le nombre de document pour la requête `\"stanford aoerc pool hours\"`.\n"
   ]
  },
  {
   "cell_type": "code",
   "execution_count": null,
   "metadata": {
    "id": "8mlegbUXEodn"
   },
   "outputs": [],
   "source": [
    "query_1 = query_dict[Query(\"stanford aoerc pool hours\")]\n",
    "print(\"Le nombre de documents pour la requête {0} est {1}\".format(\"stanford aoerc pool hours\",len(query_1)))"
   ]
  },
  {
   "cell_type": "code",
   "execution_count": null,
   "metadata": {
    "id": "STMrE_J6Eodo"
   },
   "outputs": [],
   "source": [
    "# Affichage des urls des différents documents associés à une requête donnée\n",
    "\n",
    "query_1 = query_dict[Query(\"stanford aoerc pool hours\")]\n",
    "for doc in query_1:\n",
    "    print(\"Le document d'url {0} a été renvoyé pour la requête {1}\".format(doc,\"stanford aoerc pool hours\"))"
   ]
  },
  {
   "cell_type": "markdown",
   "metadata": {
    "id": "WMPoYb96Eodo"
   },
   "source": [
    "**1.3.2 Ecrivez le code permettant de récupérer le nombre de documents associés à la requête `cardinal nights`.**"
   ]
  },
  {
   "cell_type": "code",
   "execution_count": null,
   "metadata": {
    "id": "Em5UQEdAEodo"
   },
   "outputs": [],
   "source": [
    "## Recupération du nombre de documents associés à la requête \"cardinal nights\"\n",
    "# TO COMPLETE"
   ]
  },
  {
   "cell_type": "markdown",
   "metadata": {
    "id": "5ZDTh2_eEodp"
   },
   "source": [
    "**Récupération des différentes informations associées à un document**\n",
    "\n",
    "Pour une requête donnée et un document associé, identifié par son url, il est ensuite possible de récupérer le document et les différentes informations sur ce dernier :\n",
    "+ son titre\n",
    "+ ses headers\n",
    "+ ses termes d'importance et leurs positions dans le corps du document.\n",
    "+ la longeur du corps du document\n",
    "+ son page rank\n",
    "+ d'éventuels textes d'ancrage.\n",
    "\n",
    "Le code ci-dessous vous montre comment récupérer ces différentes informations pour la requête `\"stanford aoerc pool hours\"` et le document associé d'url `\" http://events.stanford.edu/2014/February/18/\"`."
   ]
  },
  {
   "cell_type": "code",
   "execution_count": null,
   "metadata": {
    "id": "oaXuO9EhEodp"
   },
   "outputs": [],
   "source": [
    "# Récupération d'un document\n",
    "sample_doc = query_dict[Query(\"stanford aoerc pool hours\")]['http://events.stanford.edu/2014/February/18/']\n",
    "sample_doc"
   ]
  },
  {
   "cell_type": "code",
   "execution_count": null,
   "metadata": {
    "id": "q5YwsmlCEodp"
   },
   "outputs": [],
   "source": [
    "# affichage du document\n",
    "print(\"document:\", sample_doc)"
   ]
  },
  {
   "cell_type": "markdown",
   "metadata": {
    "id": "aJMMgSOiEodq"
   },
   "source": [
    "Pour récupérer les différentes informations du document, il suffit ensuite de suivre le syntaxe `var_document.nom_du_champ`. Par exemple, pour récupérer l'url du document précédent, stocké dans la variable `sample_doc`, il suffit d'utiliser la syntaxe `sample_doc.url` comme illustré ci-dessous."
   ]
  },
  {
   "cell_type": "code",
   "execution_count": null,
   "metadata": {
    "id": "o0Ml-ydiEodq"
   },
   "outputs": [],
   "source": [
    "# récupération et affichage du contenu du champ url du document\n",
    "url_doc = sample_doc.url\n",
    "print(\"url :\", url_doc)"
   ]
  },
  {
   "cell_type": "markdown",
   "metadata": {
    "id": "ahP9zK3cEodq"
   },
   "source": [
    "Le code ci-dessous montre comment récupérer les headers du document référencé dans la variable `sample_doc`."
   ]
  },
  {
   "cell_type": "code",
   "execution_count": null,
   "metadata": {
    "id": "R3KPHR7tEodq"
   },
   "outputs": [],
   "source": [
    "# récupération et affichage du contenu du champ headers du document\n",
    "headers_doc = sample_doc.headers\n",
    "print(\"headers:\", headers_doc)"
   ]
  },
  {
   "cell_type": "markdown",
   "metadata": {
    "id": "F88OskJdEodr"
   },
   "source": [
    "Pour les termes d'importance, ils sont stockés sous la forme d'un dictionnaire python avec pour clé le terme lui-même et pour valeur associée à chaque clé, l'ensemble des positions du terme dans le corps du document. L'exemple ci-dessous montre comment récupérer les termes d'importance pour le document référencé dans la variable `sample_doc`."
   ]
  },
  {
   "cell_type": "code",
   "execution_count": null,
   "metadata": {
    "id": "yKUsqJ1OEodr"
   },
   "outputs": [],
   "source": [
    "# récupération et affichage du contenu du champ body hits  du document\n",
    "body_hits_doc = sample_doc.body_hits\n",
    "print(\"body_hits:\",body_hits_doc)\n",
    "\n",
    "for term_hit in body_hits_doc:\n",
    "    print(\"Le terme {0} apparait {1} fois dans le document de titre {2}\".format(term_hit, len(body_hits_doc[term_hit]), sample_doc.title))"
   ]
  },
  {
   "cell_type": "markdown",
   "metadata": {
    "id": "OElS8nu_Eodr"
   },
   "source": [
    "Comme vous le voyez dans l'exemple ci-dessus, il est possible de récupérer le nombre d'occurence du terme d'importance à partir de la liste des positions des documents."
   ]
  },
  {
   "cell_type": "markdown",
   "metadata": {
    "id": "ARymZaGrEodr"
   },
   "source": [
    "**1.3.3 Ecrivez le code permettant de récupérer  pour le deuxième document associé à la requête `cardinal nights` ses informations utiles, à savoir son url, son titre, ses headers, ses termes d'importance et leurs fréquences respectives dans le corps du document**"
   ]
  },
  {
   "cell_type": "code",
   "execution_count": null,
   "metadata": {
    "id": "MWX-QVTQEodr"
   },
   "outputs": [],
   "source": [
    "# TO COMPLETE"
   ]
  },
  {
   "cell_type": "markdown",
   "metadata": {
    "id": "NsfOriPbEodr"
   },
   "source": [
    "<div class=\"alert alert-block alert-info\"> \n",
    "\n",
    "Une fois fait, complétez le Wooclap ci-dessous avec les différentes informations obtenues\n",
    "</div> \n",
    " \n",
    "[**Wooclap**](https://app.wooclap.com/JXDNGT/questionnaires/60a242317dc46f112f7c5f54)"
   ]
  },
  {
   "cell_type": "markdown",
   "metadata": {
    "id": "lzuKCLVYsHiw"
   },
   "source": [
    "#### 1.4 Autres données utiles\n",
    "\n",
    "D'autres données utiles sont fournies dans le répertoire [Data/pa3-data](./Data/pa3-data). Vous disposez notamment de :\n",
    "+ un dictionnaire de termes [`terms.dict`](./Data/pa3-data/terms.dict) qui peut être chargé à l'aide du module `pickle` de python et qui associe à chaque terme un identifiant unique (`term_ID`) et inversement.\n",
    "+ un dictionnaire de documents [`docs.dict`](./Data/pa3-data/docs.dict) qui peut être chargé à l'aide du module `pickle` de python et qui associe à chaque url de document un identifiant unique (`doc_ID`) et inversement.\n",
    "+ un dictionnaire inversé [`BSBI.dict`](./Data/pa3-data/BSBI.dict) qui associe à chaque `term_ID` un triplet qui correspond à `(start_position_in_index_file, number_of_postings_in_list, length_in_bytes_of_postings_list)``.\n",
    "\n",
    "\n",
    "**ATTENTION**, dans notre cas, la seule information utile est le nombre de postings dans la liste qui permet de récupérer la fréquence de documents `df` d'un terme. Cet index a été construit à l'aide de l'algorithme [BSBI](https://nlp.stanford.edu/IR-book/html/htmledition/blocked-sort-based-indexing-1.html) qui permet de gérer l'indexation de collections volumineuses.\n",
    "\n",
    "Les codes ci-dessous montrent quelques exemples de manipulation de ces différents fichiers.\n"
   ]
  },
  {
   "cell_type": "code",
   "execution_count": null,
   "metadata": {
    "id": "NUoxRcMPsHix"
   },
   "outputs": [],
   "source": [
    "# Manipulation des termes par leur IDs\n",
    "import pickle as pkl\n",
    "from Utils.base_classes.id_map import IdMap\n",
    "import math\n",
    "\n",
    "with open(\"./Data/pa3-data/terms.dict\", 'rb') as f:\n",
    "    terms = pkl.load(f)\n",
    "    total_term_num = len(terms)\n",
    "    print(\"Total Number of Terms is\", total_term_num)\n",
    "\n",
    "print('Le term ID de {0} est {1}'.format(\"radiology\",terms[\"radiology\"]))\n",
    "print(\"Le terme d'ID {0} est {1}\".format(1,terms[1]))\n"
   ]
  },
  {
   "cell_type": "code",
   "execution_count": null,
   "metadata": {
    "id": "TpDr9WwYsHi0"
   },
   "outputs": [],
   "source": [
    "# manipulation des documents par leur IDs\n",
    "\n",
    "with open(\"./Data/pa3-data/docs.dict\", 'rb') as f:\n",
    "    docs = pkl.load(f)\n",
    "    total_doc_num = len(docs)\n",
    "    print(\"Total Number of Docs is\", total_doc_num)\n",
    "    \n",
    "print(\"Le doc d'ID {0} a pour url {1}\".format(1,docs[1]))\n",
    "print(\"Le doc d'url {0} a pour docID {1}\".format(\"0/3dradiology.stanford.edu_patient_care_Case%2520studies_AVM.html\",docs[\"0/3dradiology.stanford.edu_patient_care_Case%2520studies_AVM.html\"]))\n",
    "print(\"Le doc d'ID {0} a pour url {1}\".format(3452,docs[3452]))\n"
   ]
  },
  {
   "cell_type": "markdown",
   "metadata": {
    "id": "Tc7Pn6oEEods"
   },
   "source": [
    "Récupération des informations du dictionnaire inversé `BSBI.dict`"
   ]
  },
  {
   "cell_type": "code",
   "execution_count": null,
   "metadata": {
    "id": "co47d7EIsHi3"
   },
   "outputs": [],
   "source": [
    "# Manipulation de l'index inversé\n",
    "\n",
    "with open('./Data/pa3-data/BSBI.dict', 'rb') as f:\n",
    "    postings_dict, termsID = pkl.load(f)\n",
    "\n",
    "print(\"Pour le terme {0} : {1}\".format(terms[1],postings_dict[1]))\n",
    "print(\"Le df (document frequency) du terme {0} est {1}\".format(terms[1],postings_dict[1][1]))\n"
   ]
  },
  {
   "cell_type": "markdown",
   "metadata": {
    "id": "OEgfF0AsEods"
   },
   "source": [
    "####  Manipulation des dictionnaires.\n",
    "\n",
    "En vous inspirant des exemples précédents, repondez aux questions ci-dessous.\n"
   ]
  },
  {
   "cell_type": "markdown",
   "metadata": {
    "id": "tzflKqGfEodt"
   },
   "source": [
    "#### 1.4.1 Dictionnaire de termes\n",
    "\n",
    "Quel est l'ID du terme \"administration\" ?"
   ]
  },
  {
   "cell_type": "code",
   "execution_count": null,
   "metadata": {
    "id": "U95FqA1vEodt"
   },
   "outputs": [],
   "source": [
    "# TO complete"
   ]
  },
  {
   "cell_type": "markdown",
   "metadata": {
    "id": "iPhrVD6aEodt"
   },
   "source": [
    "Quel terme a pour ID = 15000 ?"
   ]
  },
  {
   "cell_type": "code",
   "execution_count": null,
   "metadata": {
    "id": "hEuDTxFeEodt"
   },
   "outputs": [],
   "source": [
    "# TO complete"
   ]
  },
  {
   "cell_type": "markdown",
   "metadata": {
    "id": "usb4ZEOfEodt"
   },
   "source": [
    "#### 1.4.2 Dictionnaire de documents"
   ]
  },
  {
   "cell_type": "markdown",
   "metadata": {
    "id": "_QcINWwgEodt"
   },
   "source": [
    "Quel est l'ID du document d'url \"https://uit.stanford.edu/service/webauth/twostep/push\" ?"
   ]
  },
  {
   "cell_type": "code",
   "execution_count": null,
   "metadata": {
    "id": "teD4h2QaEodt"
   },
   "outputs": [],
   "source": [
    "# TO complete\n"
   ]
  },
  {
   "cell_type": "markdown",
   "metadata": {
    "id": "PwfyCEWfEodu"
   },
   "source": [
    "Quel est l'url du document d'ID = 85000 ?"
   ]
  },
  {
   "cell_type": "code",
   "execution_count": null,
   "metadata": {
    "id": "-EfPe_ntEodu"
   },
   "outputs": [],
   "source": [
    "# TO complete\n"
   ]
  },
  {
   "cell_type": "markdown",
   "metadata": {
    "id": "HUijU0j5Eodu"
   },
   "source": [
    "Est-ce que la requête \"alumni association benefits\" est associé au document d'ID= 3800 dans le fichier d'apprentissage `pa3.signal.train`?"
   ]
  },
  {
   "cell_type": "code",
   "execution_count": null,
   "metadata": {
    "id": "7IgDmDhTEodu"
   },
   "outputs": [],
   "source": [
    "# TO complete"
   ]
  },
  {
   "cell_type": "markdown",
   "metadata": {
    "id": "58k4fuGFEodu"
   },
   "source": [
    "<div class=\"alert alert-block alert-info\"> \n",
    "\n",
    "Une fois fait, complétez le Wooclap ci-dessous avec les différentes informations obtenues\n",
    "</div> \n",
    " \n",
    "[**Wooclap**](https://app.wooclap.com/JXDNGT/questionnaires/60a26e24a9c3c91151759da5)"
   ]
  },
  {
   "cell_type": "markdown",
   "metadata": {
    "id": "WJGvTTRxsHi7"
   },
   "source": [
    "## Partie 2 : construction d'un dictionnaire idf pour chaque terme\n",
    "\n",
    "L'objectif de cette partie est de continuer à **prendre en main le jeu de données** en construisant un dictionnaire `{term: idf}` qui contient pour chaque terme son score `idf` et qui nous sera utile plus tard, pour l'approche d'apprentissage par paires.\n",
    "\n",
    "\n",
    "Nous rappelons que pour un terme présent dans l'index inversé, on a :\n",
    "$$idf(t) = \\log_{10}\\left(\\frac{N}{df_t}\\right)$$\n",
    "\n",
    "Pour un terme non présent dans l'index inversé, on considère :\n",
    "\n",
    "$$idf(t) = \\log_{10}\\left(\\frac{N}{1.0}\\right)$$\n",
    "\n",
    "avec $N$ le nombre total de documents dans la collection.\n",
    "\n",
    "**Compléter la fonction `build_IDF_dict()` ci-dessous. Cette dernière prend en paramètre le dictionnaire de termes, le dictionnaire de documents et l'index inversé et renvoie un dictionnaire qui associe à chaque terme sa valeur d'IDF.**"
   ]
  },
  {
   "cell_type": "code",
   "execution_count": null,
   "metadata": {
    "id": "zXzFNeMksHi9"
   },
   "outputs": [],
   "source": [
    "def build_IDF_dict(terms_dict,BSBI_dict,doc_dict):\n",
    "    IDF_dict={}\n",
    "    # A completer\n",
    "    return  IDF_dict\n"
   ]
  },
  {
   "cell_type": "markdown",
   "metadata": {
    "id": "MPj9GrDCsHjB"
   },
   "source": [
    "Testez votre fonction précédente en appliquant le code ci-dessous.\n"
   ]
  },
  {
   "cell_type": "code",
   "execution_count": null,
   "metadata": {
    "id": "jvfXS5P_Eodv"
   },
   "outputs": [],
   "source": [
    "IDF_voca=build_IDF_dict(terms,postings_dict,docs)\n",
    "print(IDF_voca['radiology'])\n",
    "# réponse attendue : environ 2.3631779024128257"
   ]
  },
  {
   "cell_type": "markdown",
   "metadata": {
    "id": "lPiR66E4Eodv"
   },
   "source": [
    "**Quelle est la valeur d'IDF pour le terme \"stanford\" ?**"
   ]
  },
  {
   "cell_type": "code",
   "execution_count": null,
   "metadata": {
    "id": "931RkH8FEodv"
   },
   "outputs": [],
   "source": [
    "# TO COMPLETE"
   ]
  },
  {
   "cell_type": "markdown",
   "metadata": {
    "id": "UAqi2hbrsHjC"
   },
   "source": [
    "## Partie 3 :  mise en place de l' approche par points\n",
    "\n"
   ]
  },
  {
   "cell_type": "markdown",
   "metadata": {
    "id": "Sr1OJh-CsHjD"
   },
   "source": [
    "Comme nous l'avons vu en cours, la mise en oeuvre de l'approche par point consiste en :\n",
    "\n",
    "   1. Une première étape dite de **feature engineering** et qui va consister à construire un vecteur représentatif pour chaque paire $x_{i,j} = (q_i,d_j)$ de l'ensemble d'apprentissage. En effet, chaque requête $q_i$ est associée à un ensemble de documents et pour chaque document $d_j$, il s'agira d'extraire un vecteur de caractéristiques caractérisant le couple $x_{i,j}= (q_i,d_j)$.\n",
    "   2. La construction des données d'apprentissage supervisé en associant à chaque paire $x_{i,j}$ un label $y_{i,j}$ qui est le score de pertinence fourni dans le fichier [pa3.rel.train](Data/pa3-data/pa3.rel.train). \n",
    "   3. L'apprentissage d'une fonction d'ordonnancement sur l'ensemble d'apprentissage ainsi construit.\n",
    "   4. L'évaluation du modèle appris sur les données de validation (ou de test).\n",
    "***"
   ]
  },
  {
   "cell_type": "markdown",
   "metadata": {
    "id": "pxQMNJEwsHjE"
   },
   "source": [
    "\n",
    "#### Un problème de regression\n",
    "\n",
    "Le problème d'ordonnancement consiste à apprendre une fonction $f$ telle que $f(x_{i,j})$ soit proche de $y_{i,j}$\n",
    "\n",
    "Nous allons implémenter ici une instance très simple de l'approche par point qui consiste à représenter le problème comme un problème de **regression linéaire**. On va donc considérer une fonction $f$ qui donne un score à chaque paire $x =(q,d)$ selon $f(x) = wx+b$. Il s'agit donc d'apprendre le vecteur de poids ${w}$ et le terme de biais $b$ en minimisant la fonction de perte ci-dessous : \n",
    "\\begin{equation}\n",
    "\\sum_{i=1}^m (f(x_{i})-y_{i})^2\n",
    "\\end{equation}\n",
    "Il s'agit d'un problème de minimisation au sens des moindres carrés ordinaires.\n"
   ]
  },
  {
   "cell_type": "markdown",
   "metadata": {
    "id": "3Igh1q1YsHjF"
   },
   "source": [
    "### Partie 3 .1 : *feature engineering* - Construction du vecteur représentatif de $x=(q,d)$\n",
    "\n",
    "Nous allons représenter chaque paire (requête,document) comme un vecteur de 4 dimensions où chaque dimension correspond à un des champs du document (titre, header, body et anchor) et comme valeur à chaque dimension le score `tf-idf` obtenu comme le produit scalaire de $q \\cdot d_{f}$ avec $q$ le vecteur représentatif de la requête dans l'espace des termes et $d_f$ le vecteur représentatif du champ $f$ du document dans l'espace des termes.\n",
    "\n",
    "Ainsi, si on considère $\\vec{q}$ le vecteur représentatif de la requête et $\\vec{d_f}$ le vecteur représentatif du champ $f$ construit sur l'espace des termes, il s'agit donc ici de construire $\\vec{x}$, vecteur représentatif du couple comme :\n",
    "\n",
    "$$\\vec{x}=\\left(\\begin{array}{c}\n",
    " \\vec{q} \\cdot \\vec{d_{\\textrm{titre}}} \\\\\n",
    " \\vec{q} \\cdot \\vec{d_{\\textrm{header}}}  \\\\\n",
    " \\vec{q} \\cdot \\vec{d_{\\textrm{body}}} \\\\\n",
    " \\vec{q} \\cdot \\vec{d_{\\textrm{anchor}}} \\\\\n",
    "\\end{array} \\right)$$\n",
    "\n",
    "***\n",
    "\n",
    "#### 3 .1. 1 - Représentation de la requête : construction du vecteur requête $ \\vec{q}$.\n",
    "\n",
    "Le vecteur requête sera construit en prenant en compte pour chaque terme :\n",
    "\n",
    " + sa fréquence logarithmique dans la requête.\n",
    " + son idf dans le corpus.\n",
    "\n",
    "On ne fera pas de normalisation.\n",
    " \n",
    "Ainsi, pour un terme $i$ présent dans la requête, son vecteur aura comme composante $i$ pour la requête $q$:\n",
    "\n",
    "$$w_{iq}= (1 + \\log_{10}(tf_{t_i,q})) \\times \\log (\\frac{N}{df_{t_i}})$$\n",
    " \n",
    "Ecrire le code permettant de calculer le vecteur d'une requête donnée. Il s'agit donc de compléter la fonction `def vect_query(q, IDF_voca,N)` ci-dessous qui prend en paramètre la requête `q` ainsi que le dictionnaire IDF et le nombre total de documents dans le corpus. Pour faciliter la suite des traitements, vous représenterez ce vecteur sous la forme d'un array `numpy`. Attention, certains termes de la requête peuvent être inconnus.\n",
    "\n",
    "**Attention, on ne s'intéresse ici qu'aux termes de la requête.**\n",
    "\n"
   ]
  },
  {
   "cell_type": "code",
   "execution_count": null,
   "metadata": {
    "id": "i21ICa2LsHjJ"
   },
   "outputs": [],
   "source": [
    "def N=len(docs)\n",
    "\n",
    "def vect_query(q,IDF_voca,N ):\n",
    "    # A compléter\n",
    "    return"
   ]
  },
  {
   "cell_type": "markdown",
   "metadata": {
    "id": "t7Uri5wyEodw"
   },
   "source": [
    "Vous pouvez tester votre code avec la requête `'radiology radiology 3d'` et le code ci-dessous."
   ]
  },
  {
   "cell_type": "code",
   "execution_count": null,
   "metadata": {
    "id": "5okGHpW7Eodw"
   },
   "outputs": [],
   "source": [
    "# TO COMPLETE"
   ]
  },
  {
   "cell_type": "markdown",
   "metadata": {
    "id": "i6jPPLGKEodw"
   },
   "source": [
    "Quelle représentation obtenez-vous pour la requête `\"stanford robert crown library\"`?"
   ]
  },
  {
   "cell_type": "code",
   "execution_count": null,
   "metadata": {
    "id": "BWLEM6YWEodw"
   },
   "outputs": [],
   "source": [
    "# TO COMPLETE"
   ]
  },
  {
   "cell_type": "markdown",
   "metadata": {
    "id": "KueSNdsGEodw"
   },
   "source": [
    "Quelle représentation obtenez-vous pour la requête `\"\"stanford aoerc pool hours\"\"`?"
   ]
  },
  {
   "cell_type": "code",
   "execution_count": null,
   "metadata": {
    "id": "vupvBI0xEodw"
   },
   "outputs": [],
   "source": [
    "# TO COMPLETE"
   ]
  },
  {
   "cell_type": "markdown",
   "metadata": {
    "id": "ZjZ2npQRsHjX"
   },
   "source": [
    "***\n",
    "\n",
    "#### 3.1.2 - Représentation du document : construction du vecteur représentatif  de chaque champ de document $\\vec{d_{\\textrm{champ}}}$\n",
    "\n",
    "Vous allez construire ici une représentation (en prenant uniquement en compte les termes de la requête) pour chaque champ des documents associés à une requête. Pour les champs multiples, on considèrera qu'il forme un seul gros document et on multipliera leur score `tf` par le compteur fourni si besoin (exemple ci-dessous `anchor_count`).\n",
    "\n",
    "Par exemple, pour la requête $[\\text{stanford aoerc pool hours}]^T$ et l'exemple ci-dessous\n",
    "```python\n",
    "  url: https://cardinalrec.stanford.edu/facilities/aoerc/\n",
    "    ...\n",
    "    anchor_text: gyms aoerc\n",
    "      stanford_anchor_count: 3\n",
    "    anchor_text: aoerc\n",
    "      stanford_anchor_count: 13\n",
    "    anchor_text: http cardinalrec stanford edu facilities aoerc\n",
    "      stanford_anchor_count: 4\n",
    "    anchor_text: arrillaga outdoor education and recreation center aoerc link is external\n",
    "      stanford_anchor_count: 1\n",
    "    anchor_text: the arrillaga outdoor education and research center aoerc\n",
    "      stanford_anchor_count: 2\n",
    "    anchor_text: aoerc will shutdown for maintenance\n",
    "      stanford_anchor_count: 2\n",
    "```\n",
    "\n",
    "Le tf de l'<b>anchor</b> pour le document d'url `https://cardinalrec.stanford.edu/facilities/aoerc/` sera $[\\text{4 25 0 0}]^T$ car il y a 4 *stanford_anchor_count* pour le terme “stanford” et 25 *stanford_anchor_count* pour le terme “aoerc”.\n",
    "\n",
    "On calculera donc le vecteur associé à chaque champ avec, pour chaque terme présent dans la requête, sa fréquence logarithmique  dans le document soit pour le terme $t_i$ dans le document $d$ et la requête :\n",
    "\n",
    "$$w_{id} = \\frac{ 1 + \\log_{10}(tf_{id})}{F_{\\textrm{norm}}}$$\n",
    "avec \n",
    "$F_{\\textrm{norm}}$ un facteur de normalisation.\n",
    "\n",
    "Vous diviserez tous les champs par le même facteur de normalisation, la longueur du corps du document.\n",
    "Notez que certains documents ont une longueur de corps de 0, vous devrez donc les lisser d'une manière ou d'une autre. Une bonne stratégie consiste à ajouter une valeur, par exemple 500, à la longueur du corps de chaque document. Vous pouvez expérimenter avec cette valeur ou avec d'autres stratégies de lissage et les rapporter. Pour vous documenter sur les techniques de lissage, vous pouvez consulter le cours [Pour aller plus loin]()\n",
    "\n",
    "**3.1.2.1 Completer la fonction ci-dessous qui pour une requête $q$ et un document $d$ associé calcule la représentation pour le champ `titre`.**\n",
    "Pour faciliter la suite des traitements, vous représenterez ce vecteur de représentation sous la forme d'un array `numpy`."
   ]
  },
  {
   "cell_type": "code",
   "execution_count": null,
   "metadata": {
    "id": "-XY281rfsHjY"
   },
   "outputs": [],
   "source": [
    "def vect_doc_title(q,d , query_dict):\n",
    "    # To complete\n"
   ]
  },
  {
   "cell_type": "markdown",
   "metadata": {
    "id": "VcQWALY4Eodx"
   },
   "source": [
    "Tester votre fonction pour la requête `\"stanford aoerc pool hours\"` et le document d'url `\"http://events.stanford.edu/2014/February/18/\"`."
   ]
  },
  {
   "cell_type": "code",
   "execution_count": null,
   "metadata": {
    "id": "ereT8-vAEodx"
   },
   "outputs": [],
   "source": [
    "# TO COMPLETE"
   ]
  },
  {
   "cell_type": "markdown",
   "metadata": {
    "id": "hRsf59DfEodx"
   },
   "source": [
    "Tester votre fonction pour la requête `\"stanford aoerc pool hours\"` et le document d'url `\"https://cardinalrec.stanford.edu/facilities/aoerc/\"`."
   ]
  },
  {
   "cell_type": "code",
   "execution_count": null,
   "metadata": {
    "id": "jCIxq_p9Eodx"
   },
   "outputs": [],
   "source": [
    "# TO COMPLETE"
   ]
  },
  {
   "cell_type": "markdown",
   "metadata": {
    "id": "vNk1fa6BEodx"
   },
   "source": [
    "**3.1.2.2 Completer la fonction ci-dessous qui pour une requête  𝑞  et un document  𝑑  associé calcule la représentation pour le champ `header`.**\n",
    "Attention, il peut y avoir plusieurs headers et il faudra donc aggréger les différents headers si c'est le cas.\n",
    "Pour faciliter la suite des traitements, vous représenterez ce vecteur de représentation sous la forme d'un array `numpy`."
   ]
  },
  {
   "cell_type": "code",
   "execution_count": null,
   "metadata": {
    "id": "CMcBImbxEodx"
   },
   "outputs": [],
   "source": [
    "def vect_doc_header(q,d , query_dict):\n",
    "    # To complete"
   ]
  },
  {
   "cell_type": "markdown",
   "metadata": {
    "id": "lrBkel2qEodx"
   },
   "source": [
    "Tester votre fonction pour la requête `\"stanford aoerc pool hours\"` et le document d'url `\"http://events.stanford.edu/2014/February/18/\"`."
   ]
  },
  {
   "cell_type": "code",
   "execution_count": null,
   "metadata": {
    "id": "suYuYf4GEodx"
   },
   "outputs": [],
   "source": [
    "# TO COMPLETE"
   ]
  },
  {
   "cell_type": "markdown",
   "metadata": {
    "id": "hZqi6haYEody"
   },
   "source": [
    "Tester votre fonction pour la requête `\"stanford aoerc pool hours\"` et le document d'url `\"https://cardinalrec.stanford.edu/facilities/aoerc/\"`."
   ]
  },
  {
   "cell_type": "code",
   "execution_count": null,
   "metadata": {
    "id": "c_Y3crcLEody"
   },
   "outputs": [],
   "source": [
    "# TO COMPLETE"
   ]
  },
  {
   "cell_type": "markdown",
   "metadata": {
    "id": "z32wL-zGEody"
   },
   "source": [
    "**3.1.2.3 Completer la fonction ci-dessous qui pour une requête  𝑞  et un document  𝑑  associé calcule la représentation pour le champ `body_hits`.**\n",
    "Ici, vous vous intéressez donc qu'aux seuls termes communs entre les `body_hits`et la requête.\n",
    "Pour faciliter la suite des traitements, vous représenterez ce vecteur de représentation sous la forme d'un array `numpy`."
   ]
  },
  {
   "cell_type": "code",
   "execution_count": null,
   "metadata": {
    "id": "IG85_TnDEody"
   },
   "outputs": [],
   "source": [
    "def vect_doc_body_hits(q,d , query_dict):\n",
    "    # To complete"
   ]
  },
  {
   "cell_type": "markdown",
   "metadata": {
    "id": "nl8gLGb4Eody"
   },
   "source": [
    "Tester votre fonction pour la requête `\"stanford aoerc pool hours\"` et le document d'url `\"http://events.stanford.edu/2014/February/18/\"`."
   ]
  },
  {
   "cell_type": "code",
   "execution_count": null,
   "metadata": {
    "id": "fvwSO33hEody"
   },
   "outputs": [],
   "source": [
    "# TO COMPLETE"
   ]
  },
  {
   "cell_type": "markdown",
   "metadata": {
    "id": "xA3Mvp38Eody"
   },
   "source": [
    "Tester votre fonction pour la requête `\"stanford aoerc pool hours\"` et le document d'url `\"https://cardinalrec.stanford.edu/facilities/aoerc/\"`."
   ]
  },
  {
   "cell_type": "code",
   "execution_count": null,
   "metadata": {
    "id": "qF-tGeKFEodz"
   },
   "outputs": [],
   "source": [
    "# TO COMPLETE"
   ]
  },
  {
   "cell_type": "markdown",
   "metadata": {
    "id": "Mxr5KUiXEodz"
   },
   "source": [
    "**3.1.2.4 Completer la fonction ci-dessous qui pour une requête  𝑞  et un document  𝑑  associé calcule la représentation pour le champ `anchor`.**\n",
    "Attention, il peut y avoir plusieurs anchors et il faudra donc aggréger les différents headers si c'est le cas.\n",
    "\n",
    "Pour faciliter la suite des traitements, vous représenterez ce vecteur de représentation sous la forme d'un array `numpy`."
   ]
  },
  {
   "cell_type": "code",
   "execution_count": null,
   "metadata": {
    "id": "_Nv_mW8LEodz"
   },
   "outputs": [],
   "source": [
    "def vect_doc_anchors(q,d , query_dict):\n",
    "    # To complete"
   ]
  },
  {
   "cell_type": "markdown",
   "metadata": {
    "id": "_wjXbc-tEodz"
   },
   "source": [
    "Tester votre fonction pour la requête \"stanford aoerc pool hours\" et le document d'url `\"http://events.stanford.edu/2014/February/18/\"`."
   ]
  },
  {
   "cell_type": "code",
   "execution_count": null,
   "metadata": {
    "id": "Bmjl69RxEodz"
   },
   "outputs": [],
   "source": [
    "# TO COMPLETE"
   ]
  },
  {
   "cell_type": "markdown",
   "metadata": {
    "id": "ybrUnST3Eodz"
   },
   "source": [
    "Tester votre fonction pour la requête `\"stanford aoerc pool hours\"` et le document d'url `\"https://cardinalrec.stanford.edu/facilities/aoerc/\"`."
   ]
  },
  {
   "cell_type": "code",
   "execution_count": null,
   "metadata": {
    "id": "hzciwYY4Eodz"
   },
   "outputs": [],
   "source": [
    "# TO COMPLETE"
   ]
  },
  {
   "cell_type": "markdown",
   "metadata": {
    "id": "U4w-iHHgsHjb"
   },
   "source": [
    "***\n",
    "\n",
    "### 3.1.3 Représentation du couple (document,requête) : vecteur représentatif  $x=(q,d)$\n",
    "Ecrire une fonction qui pour un couple (document,requête) construit le vecteur de dimension 4 associé comme décrit précedemment. Il s'agit pour chacun des champs de calculer le produit scalaire entre la représentation de la requête et la représentation du champ du document.\n",
    "\n",
    "Pour faciliter la suite des traitements, vous représenterez ce vecteur de représentation sous la forme d'un array `numpy`."
   ]
  },
  {
   "cell_type": "code",
   "execution_count": null,
   "metadata": {
    "id": "ufRpmAaAsHjd"
   },
   "outputs": [],
   "source": [
    "def vect_query_doc(query, doc, query_dict):\n",
    "\n",
    "# A compléter"
   ]
  },
  {
   "cell_type": "markdown",
   "metadata": {
    "id": "49hOVPM6Eod0"
   },
   "source": [
    "Quelle est la représentation du couple $x=(\\textrm{\"stanford aoerc pool hours\"}, \\textrm{\"https://cardinalrec.stanford.edu/facilities/aoerc/\"}$ ?"
   ]
  },
  {
   "cell_type": "code",
   "execution_count": null,
   "metadata": {
    "id": "sxEC79MiEod0"
   },
   "outputs": [],
   "source": [
    "# To complete"
   ]
  },
  {
   "cell_type": "markdown",
   "metadata": {
    "id": "tLxmoyMnsHjg"
   },
   "source": [
    "***\n",
    "\n",
    "### Partie 3. 2 : entraînement du modèle de régression linéaire \n",
    "\n",
    "Pour cette étape, nous allons nous servir de la bibliothèque [`scikit-learn`](https://scikit-learn.org/stable/) qui est une bibliothèque python dédiée à la fouille de données et à l’apprentissage automatique, développée par une équipe de l'INRIA (l'équipe Parietal de l'INRIA Paris Saclay). La communauté de développement de la bibliothèque est très active et c’est donc une bibliothèque qui évolue souvent et rapidement. Les principaux objets manipulés sont des objets de type array de numpy. C’est une bibliothèque qui possède de nombreuses fonctionnalités et elle est très utile dès lors que l’on souhaite mettre en place des algorithmes d'apprentissage.\n",
    "\n",
    "Il vous faudra d'abord l'installer"
   ]
  },
  {
   "cell_type": "code",
   "execution_count": null,
   "metadata": {
    "id": "tCdL8yFksHjh"
   },
   "outputs": [],
   "source": [
    "! pip3 install scikit-learn"
   ]
  },
  {
   "cell_type": "markdown",
   "metadata": {
    "id": "jsx9X-_XsHjk"
   },
   "source": [
    "Nous utiliserons en particulier le module [LinearRegression](https://scikit-learn.org/stable/modules/generated/sklearn.linear_model.LinearRegression.html#sklearn.linear_model.LinearRegression) de cette bibliothèque dont un exemple d'utilisation est disponible [ici](https://scikit-learn.org/stable/auto_examples/linear_model/plot_ols.html#sphx-glr-auto-examples-linear-model-plot-ols-py) et qui met bien en avant le principe de scikit-learn selon lequel toute approche de regression ou de classification, ici représentée par la variable $clf$, utilise deux fonctions essentielles:\n",
    " + La fonction **clf.fit(data,target)** qui apprend un modèle à partir de données supervisée et le stocke dans la variable $\\textrm{clf}$. `data` sont les données d'entrée et `target` les labels.\n",
    " + La fonction **clf.predict(newdata)** qui renvoie un tableau qui stocke, pour chaque nouvelle donnée en entrée, la classe prédite par le modèle appris.\n",
    "\n",
    "Si vous n'avez jamais utilisé cette bibbliothèque, nous vous recommandons de prendre le temps de lire ce rapide tutorial [ici](https://scikit-learn.org/stable/tutorial/basic/tutorial.html).\n"
   ]
  },
  {
   "cell_type": "markdown",
   "metadata": {
    "id": "cWqGOouZEod0"
   },
   "source": [
    "***\n",
    "#### 3.2.1 Calcul des caractéristiques sur le jeu de données pa3.\n",
    "\n",
    "Nous allons ici mettre en oeuvre cette approche d'apprentissage sur le jeu de données pa3. On entrainera le modèle sur l'ensemble d'apprentissage (`pa3.signal.train` et `pa3.rel.train`) et on le testera sur l'ensemble de test (`pa3.signal.dev` et `pa3.rel.dev`).\n",
    "La première étape consiste donc ici à appliquer l'étape précédente de feature engineering au jeu de données pa3. \n",
    "\n",
    "A l'aide des fonctions construites à l'étape précédente, calculer les réprésentations pour l'ensemble des données d'apprentissage. La fonction `get_relevance_score()` qui est donnée ici permet de récupérer sous la forme d'un dictionnaire les scores de pertinence des couples (requete,document)."
   ]
  },
  {
   "cell_type": "code",
   "execution_count": null,
   "metadata": {
    "id": "vIkX3TmEsHjl"
   },
   "outputs": [],
   "source": [
    "# Calculer les caractéristiques et les valeurs de pertinences pour les données d'apprentissage\n",
    "\n",
    "train_signal_file = \"./Data/pa3-data/pa3.signal.train\"\n",
    "train_rel_file = \"./Data/pa3-data/pa3.rel.train\"\n",
    "\n",
    "\n",
    "def get_relevance_score(query_dict_rel):\n",
    "    dict_rel = {}\n",
    "    for query in query_dict_rel:\n",
    "        dict_rel[query] = {}\n",
    "        for result in query_dict_rel[query]:\n",
    "            doc_url=result[:len(result)-4]\n",
    "           # print(doc_url)\n",
    "            relevance_score = result[len(result)-3:len(result)]\n",
    "           # print(relevance_score)\n",
    "            dict_rel[query][doc_url]=float(relevance_score)\n",
    "    return  dict_rel \n",
    "    \n",
    "dict_rel =get_relevance_score(query_dict_rel)\n",
    "\n",
    "\n",
    "\n",
    "\n",
    "# A compléter\n"
   ]
  },
  {
   "cell_type": "markdown",
   "metadata": {
    "id": "yB8-EgBjEod1"
   },
   "source": [
    "***\n",
    "\n",
    "#### 3.2. 2 Entrainement du modèle d'ordonnancement.\n",
    "Il s'agit ici d'apprendre le modèle de regression qui sera utilisé pour l'ordonnancement à l'aide des fonctionnalités de la bibliothèque `scikit-learn`."
   ]
  },
  {
   "cell_type": "code",
   "execution_count": null,
   "metadata": {
    "id": "kUqJBCeAsHjo"
   },
   "outputs": [],
   "source": [
    "# Entrainer un modèle de regression linéaire\n",
    "import numpy as np\n",
    "from sklearn.linear_model import LinearRegression\n",
    "\n",
    "# A completer"
   ]
  },
  {
   "cell_type": "markdown",
   "metadata": {
    "id": "j9VibaL2Eod1"
   },
   "source": [
    "***\n",
    "#### 3.2.3 Application du modèle de regression.\n",
    "\n",
    "A l'aide de l'étape précédente, vous venez d'apprendre un modèle que vous pouvez maintenant utiliser sur de nouvelles données pour mettre en place un système de recherche d'information.\n",
    "Pour cela, étant donnée une requête $q$ et l'ensemble des documents $(d_1,....d_m)$ qui contiennent des termes de la requête, il suffit d'appliquer le modèle $f$ appris à chaque couple $(q,d_i)$ qui va donc prédire un score de pertinence pour ce couple. Il suffira ensute d'ordonner par ordre de pertinence decroissant pour répondre à la requête.\n",
    "\n",
    "\n",
    "\n",
    "\n",
    "Nous allons maintenant appliquer ce modèle à l'ensemble des données de test, c'est-à-dire les données du fichiers `pa3.signal.dev`.\n",
    "\n"
   ]
  },
  {
   "cell_type": "code",
   "execution_count": null,
   "metadata": {
    "id": "xtftAYmPsHjs"
   },
   "outputs": [],
   "source": [
    "# Calculer les caractéristiques et les valeurs de pertinences pour les données de test\n",
    "\n",
    "dev_signal_file = \"./Data/pa3-data/pa3.signal.dev\"\n",
    "dev_rel_file = \"./Data/pa3-data/pa3.rel.dev\"\n",
    "\n",
    "# a completer"
   ]
  },
  {
   "cell_type": "code",
   "execution_count": null,
   "metadata": {
    "id": "8o92QAwEsHju"
   },
   "outputs": [],
   "source": [
    "# Obtenir les prédictions sur l'ensemble de test\n",
    "\n",
    "# A completer\n"
   ]
  },
  {
   "cell_type": "markdown",
   "metadata": {
    "id": "QDLhBkGFsHjy"
   },
   "source": [
    "***\n",
    "\n",
    "### Partie 3. 3 : évaluation du modèle"
   ]
  },
  {
   "cell_type": "markdown",
   "metadata": {
    "id": "Awccz0G2sHjz"
   },
   "source": [
    "Pour terminer ce travail, il est maintenant nécessaire d'évaluer le modèle de recherche ainsi appris. Vous allez ici évaluer votre modèle avec l'erreur quadratique moyenne et avec la mesure NDCG. En effet, comme nous avons des jugements de pertinence non-binaire, la métrique utilisée pour l'évaluation du système de recherche est le NDCG (Normalized Discounted Cumulative Gain). Vous pouvez prendre le temps de regarder le cours sur l'évaluation si vous ne vous rappeler plus de cette mesure.\n",
    "\n",
    "Comme chaque requête a au plus 10 résultats, nous utilisons cette métrique sur les 10 premiers résultats de la recherche.\n",
    "\n",
    "Pour une requête $q$ \n",
    "\n",
    "$$NDCG(q) = \\frac{1}{Z} \\sum_{m=1}^{p}\\frac{2^{R(q,m)}-1}{log_{2}(1+m)}$$\n",
    "Ici, $R(q, m)$ est le jugement de pertinence donné pour le document $m$ et la requête $q$. $Z$ est le facteur de normalisation et correspond à la valeur NDCG idéale que l'on obtient en triant les documents en ordre décroissant de pertinence et en calculant le NDCG  avec $Z=1$. $p$ est le nombre de documents qui sont retournés.\n",
    "\n",
    "Pour un ensemble de requêtes $Q = \\{q_1,...,q_m\\}$ on prend la moyenne des NDCGs de chaque requête. \n",
    "\n",
    "On utilisera pour cela l'erreur quadratique scikit_learn : documentation [ici](https://scikit-learn.org/stable/modules/generated/sklearn.metrics.mean_squared_error.html#sklearn.metrics.mean_squared_error) et il vous faudra implémenter la mesure NDCG. Vous pouvez vous inspirer du module [NDCG](./Utils/base_classes/ndcg.py) écrit en orienté objet. "
   ]
  },
  {
   "cell_type": "code",
   "execution_count": null,
   "metadata": {
    "id": "IPhJRrYOsHj0"
   },
   "outputs": [],
   "source": [
    "from sklearn.metrics import mean_squared_error\n",
    "# A completer"
   ]
  }
 ],
 "metadata": {
  "colab": {
   "name": "Lab8_LearningToRank_Students_2020_2021.ipynb",
   "provenance": [],
   "toc_visible": true
  },
  "kernelspec": {
   "display_name": "Python 3",
   "language": "python",
   "name": "python3"
  },
  "language_info": {
   "codemirror_mode": {
    "name": "ipython",
    "version": 3
   },
   "file_extension": ".py",
   "mimetype": "text/x-python",
   "name": "python",
   "nbconvert_exporter": "python",
   "pygments_lexer": "ipython3",
   "version": "3.8.3"
  }
 },
 "nbformat": 4,
 "nbformat_minor": 1
}
